{
 "cells": [
  {
   "cell_type": "code",
   "execution_count": 1,
   "id": "initial_id",
   "metadata": {
    "collapsed": true,
    "ExecuteTime": {
     "end_time": "2024-11-21T08:14:33.962837Z",
     "start_time": "2024-11-21T08:14:33.062083Z"
    }
   },
   "outputs": [
    {
     "name": "stderr",
     "output_type": "stream",
     "text": [
      "C:\\Users\\fan\\AppData\\Local\\Temp\\ipykernel_3764\\2876882311.py:1: DeprecationWarning: \n",
      "Pyarrow will become a required dependency of pandas in the next major release of pandas (pandas 3.0),\n",
      "(to allow more performant data types, such as the Arrow string type, and better interoperability with other libraries)\n",
      "but was not found to be installed on your system.\n",
      "If this would cause problems for you,\n",
      "please provide us feedback at https://github.com/pandas-dev/pandas/issues/54466\n",
      "        \n",
      "  import pandas as pd\n"
     ]
    }
   ],
   "source": [
    "import re\n",
    "\n",
    "import pandas as pd\n",
    "import matplotlib.pyplot as plt"
   ]
  },
  {
   "cell_type": "code",
   "outputs": [],
   "source": [
    "data = pd.read_csv('./result.csv')\n",
    "data.columns = [\n",
    "    '职位名称', '公司名称', '薪酬', '标签', '工作地点', '经验要求', '学历要求', '链接', '发布时间', '职位描述/任职要求', '招聘人数'\n",
    "]"
   ],
   "metadata": {
    "collapsed": false,
    "ExecuteTime": {
     "end_time": "2024-11-21T08:26:41.910560Z",
     "start_time": "2024-11-21T08:26:41.714568Z"
    }
   },
   "id": "d4e3a330ace16fa9",
   "execution_count": 32
  },
  {
   "cell_type": "code",
   "outputs": [
    {
     "name": "stdout",
     "output_type": "stream",
     "text": [
      "<class 'pandas.core.frame.DataFrame'>\n",
      "RangeIndex: 14251 entries, 0 to 14250\n",
      "Data columns (total 11 columns):\n",
      " #   Column     Non-Null Count  Dtype \n",
      "---  ------     --------------  ----- \n",
      " 0   职位名称       14251 non-null  object\n",
      " 1   公司名称       14251 non-null  object\n",
      " 2   薪酬         14251 non-null  object\n",
      " 3   标签         14251 non-null  object\n",
      " 4   工作地点       14251 non-null  object\n",
      " 5   经验要求       14251 non-null  object\n",
      " 6   学历要求       14251 non-null  object\n",
      " 7   链接         14251 non-null  object\n",
      " 8   发布时间       14251 non-null  object\n",
      " 9   职位描述/任职要求  14251 non-null  object\n",
      " 10  招聘人数       14251 non-null  object\n",
      "dtypes: object(11)\n",
      "memory usage: 1.2+ MB\n"
     ]
    }
   ],
   "source": [
    "data.info()"
   ],
   "metadata": {
    "collapsed": false,
    "ExecuteTime": {
     "end_time": "2024-11-21T08:26:41.926462Z",
     "start_time": "2024-11-21T08:26:41.911475Z"
    }
   },
   "id": "39c51234cdc60b8e",
   "execution_count": 33
  },
  {
   "cell_type": "code",
   "outputs": [],
   "source": [
    "import datetime, re\n",
    "# 去除更新时间未知的\n",
    "data = data[data['发布时间'] != '未知']\n",
    "data = data[data['招聘人数'] != '未知']\n",
    "# 定义函数处理时间\n",
    "def deal_date(date):\n",
    "    date = date.replace('更新于', '').strip()\n",
    "    date = datetime.datetime.now().strftime(\"%Y—%m-%d\") if '今天' in date else date\n",
    "    date = '2024-' + date.replace('月', '-').replace('日', '') if '月' in date else date \n",
    "    return date"
   ],
   "metadata": {
    "collapsed": false,
    "ExecuteTime": {
     "end_time": "2024-11-21T08:26:42.050861Z",
     "start_time": "2024-11-21T08:26:42.032970Z"
    }
   },
   "id": "17e053588d074aef",
   "execution_count": 34
  },
  {
   "cell_type": "code",
   "outputs": [],
   "source": [
    "data['发布时间'] = data['发布时间'].apply(deal_date)"
   ],
   "metadata": {
    "collapsed": false,
    "ExecuteTime": {
     "end_time": "2024-11-21T08:26:42.222907Z",
     "start_time": "2024-11-21T08:26:42.200952Z"
    }
   },
   "id": "917ce4c65d3344d5",
   "execution_count": 35
  },
  {
   "cell_type": "code",
   "outputs": [
    {
     "data": {
      "text/plain": "0        2024—11-21\n2        2024-11-20\n3        2024—11-21\n4        2024—11-21\n5        2024—11-21\n            ...    \n14246     2024-9-11\n14247     2024-5-30\n14248     2024-5-23\n14249    2024-11-19\n14250      2024-7-2\nName: 发布时间, Length: 13687, dtype: object"
     },
     "execution_count": 36,
     "metadata": {},
     "output_type": "execute_result"
    }
   ],
   "source": [
    "data['发布时间']"
   ],
   "metadata": {
    "collapsed": false,
    "ExecuteTime": {
     "end_time": "2024-11-21T08:26:42.503054Z",
     "start_time": "2024-11-21T08:26:42.498548Z"
    }
   },
   "id": "544eade764eb2b5a",
   "execution_count": 36
  },
  {
   "cell_type": "code",
   "outputs": [],
   "source": [
    "data['职位描述/任职要求'] = data['职位描述/任职要求'].apply(lambda x: x.replace('职位描述', '职位描述:'))"
   ],
   "metadata": {
    "collapsed": false,
    "ExecuteTime": {
     "end_time": "2024-11-21T08:26:42.829115Z",
     "start_time": "2024-11-21T08:26:42.816523Z"
    }
   },
   "id": "b449f988fcba9222",
   "execution_count": 37
  },
  {
   "cell_type": "code",
   "outputs": [],
   "source": [
    "data['招聘人数'] = data['招聘人数'].apply(lambda x: re.findall('\\d+', x)[0])"
   ],
   "metadata": {
    "collapsed": false,
    "ExecuteTime": {
     "end_time": "2024-11-21T08:26:43.253074Z",
     "start_time": "2024-11-21T08:26:43.236396Z"
    }
   },
   "id": "54a36e90bb76fe96",
   "execution_count": 38
  },
  {
   "cell_type": "code",
   "outputs": [
    {
     "data": {
      "text/plain": "0        4\n2        1\n3        2\n4        8\n5        1\n        ..\n14246    1\n14247    3\n14248    3\n14249    1\n14250    1\nName: 招聘人数, Length: 13687, dtype: object"
     },
     "execution_count": 39,
     "metadata": {},
     "output_type": "execute_result"
    }
   ],
   "source": [
    "data['招聘人数']"
   ],
   "metadata": {
    "collapsed": false,
    "ExecuteTime": {
     "end_time": "2024-11-21T08:26:48.219838Z",
     "start_time": "2024-11-21T08:26:48.211052Z"
    }
   },
   "id": "fbe4c364aef534f9",
   "execution_count": 39
  },
  {
   "cell_type": "code",
   "outputs": [
    {
     "data": {
      "text/plain": "          职位名称                              公司名称         薪酬  \\\n0    Java开发工程师            上海胜蓝软件技术服务有限公司            8千-1.1万   \n2    Java开发工程师                      三零卫士            8千-1.5万   \n3    Java开发工程师                      汉询软件            1万-1.8万   \n4    java开发工程师              江苏华瞻信息科技有限公司              5千-1万   \n5  高级Java开发工程师              济南海文尚投软件有限公司          1万-2万·13薪   \n\n                                                  标签        工作地点   经验要求 学历要求  \\\n0                               Java|民营|20-99人|计算机软件   上海·虹口·北外滩    无经验   本科   \n2                 JavaScript|Python|国企|500-999人|IT服务   成都·武侯·肖家河   3-5年   本科   \n3  JavaScript|Spring|Mybatis|MySQL|SQLServer|民营|2...  郑州·中原·航海西路  5-10年   本科   \n4                 JavaScript|民营|100-299人|电子/半导体/集成电路    南京·江宁·淳化   1-3年   本科   \n5                               Java|民营|20-99人|计算机软件   济南·历下·舜华路  5-10年   本科   \n\n                                                  链接        发布时间  \\\n0  http://www.zhaopin.com/jobdetail/CC813553990J4...  2024—11-21   \n2  http://www.zhaopin.com/jobdetail/CC000580530J4...  2024-11-20   \n3  http://www.zhaopin.com/jobdetail/CC340786110J4...  2024—11-21   \n4  http://www.zhaopin.com/jobdetail/CCL1338020740...  2024—11-21   \n5  http://www.zhaopin.com/jobdetail/CC681827820J4...  2024—11-21   \n\n                                           职位描述/任职要求 招聘人数  \n0  职位描述:Java【岗位职责】1、参与项目、系统的设计，根据需求完成软件项目的程序开发工作；...    4  \n2  职位描述:JavaScriptPython岗位职责:1. 负责软件模块的设计、开发、测试、运...    1  \n3  职位描述:JavaScriptSpringMybatisMySQLSQLServer岗位职责...    2  \n4  职位描述:JavaScript岗位职责：1、完成软件系统代码的实现，编写代码注释和开发文档；...    8  \n5  职位描述:Java  工作职责：   1. 依据公司软件开发流程参与基于Java平台B/S系...    1  ",
      "text/html": "<div>\n<style scoped>\n    .dataframe tbody tr th:only-of-type {\n        vertical-align: middle;\n    }\n\n    .dataframe tbody tr th {\n        vertical-align: top;\n    }\n\n    .dataframe thead th {\n        text-align: right;\n    }\n</style>\n<table border=\"1\" class=\"dataframe\">\n  <thead>\n    <tr style=\"text-align: right;\">\n      <th></th>\n      <th>职位名称</th>\n      <th>公司名称</th>\n      <th>薪酬</th>\n      <th>标签</th>\n      <th>工作地点</th>\n      <th>经验要求</th>\n      <th>学历要求</th>\n      <th>链接</th>\n      <th>发布时间</th>\n      <th>职位描述/任职要求</th>\n      <th>招聘人数</th>\n    </tr>\n  </thead>\n  <tbody>\n    <tr>\n      <th>0</th>\n      <td>Java开发工程师</td>\n      <td>上海胜蓝软件技术服务有限公司</td>\n      <td>8千-1.1万</td>\n      <td>Java|民营|20-99人|计算机软件</td>\n      <td>上海·虹口·北外滩</td>\n      <td>无经验</td>\n      <td>本科</td>\n      <td>http://www.zhaopin.com/jobdetail/CC813553990J4...</td>\n      <td>2024—11-21</td>\n      <td>职位描述:Java【岗位职责】1、参与项目、系统的设计，根据需求完成软件项目的程序开发工作；...</td>\n      <td>4</td>\n    </tr>\n    <tr>\n      <th>2</th>\n      <td>Java开发工程师</td>\n      <td>三零卫士</td>\n      <td>8千-1.5万</td>\n      <td>JavaScript|Python|国企|500-999人|IT服务</td>\n      <td>成都·武侯·肖家河</td>\n      <td>3-5年</td>\n      <td>本科</td>\n      <td>http://www.zhaopin.com/jobdetail/CC000580530J4...</td>\n      <td>2024-11-20</td>\n      <td>职位描述:JavaScriptPython岗位职责:1. 负责软件模块的设计、开发、测试、运...</td>\n      <td>1</td>\n    </tr>\n    <tr>\n      <th>3</th>\n      <td>Java开发工程师</td>\n      <td>汉询软件</td>\n      <td>1万-1.8万</td>\n      <td>JavaScript|Spring|Mybatis|MySQL|SQLServer|民营|2...</td>\n      <td>郑州·中原·航海西路</td>\n      <td>5-10年</td>\n      <td>本科</td>\n      <td>http://www.zhaopin.com/jobdetail/CC340786110J4...</td>\n      <td>2024—11-21</td>\n      <td>职位描述:JavaScriptSpringMybatisMySQLSQLServer岗位职责...</td>\n      <td>2</td>\n    </tr>\n    <tr>\n      <th>4</th>\n      <td>java开发工程师</td>\n      <td>江苏华瞻信息科技有限公司</td>\n      <td>5千-1万</td>\n      <td>JavaScript|民营|100-299人|电子/半导体/集成电路</td>\n      <td>南京·江宁·淳化</td>\n      <td>1-3年</td>\n      <td>本科</td>\n      <td>http://www.zhaopin.com/jobdetail/CCL1338020740...</td>\n      <td>2024—11-21</td>\n      <td>职位描述:JavaScript岗位职责：1、完成软件系统代码的实现，编写代码注释和开发文档；...</td>\n      <td>8</td>\n    </tr>\n    <tr>\n      <th>5</th>\n      <td>高级Java开发工程师</td>\n      <td>济南海文尚投软件有限公司</td>\n      <td>1万-2万·13薪</td>\n      <td>Java|民营|20-99人|计算机软件</td>\n      <td>济南·历下·舜华路</td>\n      <td>5-10年</td>\n      <td>本科</td>\n      <td>http://www.zhaopin.com/jobdetail/CC681827820J4...</td>\n      <td>2024—11-21</td>\n      <td>职位描述:Java  工作职责：   1. 依据公司软件开发流程参与基于Java平台B/S系...</td>\n      <td>1</td>\n    </tr>\n  </tbody>\n</table>\n</div>"
     },
     "execution_count": 40,
     "metadata": {},
     "output_type": "execute_result"
    }
   ],
   "source": [
    "data.head()"
   ],
   "metadata": {
    "collapsed": false,
    "ExecuteTime": {
     "end_time": "2024-11-21T08:26:54.469203Z",
     "start_time": "2024-11-21T08:26:54.446130Z"
    }
   },
   "id": "aa7f7482dd3af2fb",
   "execution_count": 40
  },
  {
   "cell_type": "code",
   "outputs": [],
   "source": [
    "data['公司名称'] = data['公司名称'].apply(lambda x: x.replace(' ', ''))\n",
    "data['职位名称'] = data['职位名称'].apply(lambda x: x.replace(' ', ''))"
   ],
   "metadata": {
    "collapsed": false,
    "ExecuteTime": {
     "end_time": "2024-11-21T08:30:54.023323Z",
     "start_time": "2024-11-21T08:30:54.003298Z"
    }
   },
   "id": "d9a10574623f166d",
   "execution_count": 44
  },
  {
   "cell_type": "code",
   "outputs": [],
   "source": [
    "data.to_csv('./final_result.csv', encoding='utf_8_sig', index=False)"
   ],
   "metadata": {
    "collapsed": false,
    "ExecuteTime": {
     "end_time": "2024-11-21T08:30:54.320660Z",
     "start_time": "2024-11-21T08:30:54.156832Z"
    }
   },
   "id": "99ce04284ccd990c",
   "execution_count": 45
  },
  {
   "cell_type": "code",
   "outputs": [],
   "source": [],
   "metadata": {
    "collapsed": false
   },
   "id": "5e4ff98255f493c8"
  }
 ],
 "metadata": {
  "kernelspec": {
   "display_name": "Python 3",
   "language": "python",
   "name": "python3"
  },
  "language_info": {
   "codemirror_mode": {
    "name": "ipython",
    "version": 2
   },
   "file_extension": ".py",
   "mimetype": "text/x-python",
   "name": "python",
   "nbconvert_exporter": "python",
   "pygments_lexer": "ipython2",
   "version": "2.7.6"
  }
 },
 "nbformat": 4,
 "nbformat_minor": 5
}
